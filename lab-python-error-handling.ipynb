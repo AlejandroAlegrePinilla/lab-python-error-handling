{
 "cells": [
  {
   "cell_type": "markdown",
   "id": "25d7736c-ba17-4aff-b6bb-66eba20fbf4e",
   "metadata": {},
   "source": [
    "# Lab | Error Handling"
   ]
  },
  {
   "cell_type": "markdown",
   "id": "bc99b386-7508-47a0-bcdb-d969deaf6c8b",
   "metadata": {},
   "source": [
    "## Exercise: Error Handling for Managing Customer Orders\n",
    "\n",
    "The implementation of your code for managing customer orders assumes that the user will always enter a valid input. \n",
    "\n",
    "For example, we could modify the `initialize_inventory` function to include error handling.\n",
    "   - If the user enters an invalid quantity (e.g., a negative value or a non-numeric value), display an error message and ask them to re-enter the quantity for that product.\n",
    "   - Use a try-except block to handle the error and continue prompting the user until a valid quantity is entered.\n",
    "\n",
    "```python\n",
    "# Step 1: Define the function for initializing the inventory with error handling\n",
    "def initialize_inventory(products):\n",
    "    inventory = {}\n",
    "    for product in products:\n",
    "        valid_quantity = False\n",
    "        while not valid_quantity:\n",
    "            try:\n",
    "                quantity = int(input(f\"Enter the quantity of {product}s available: \"))\n",
    "                if quantity < 0:\n",
    "                    raise ValueError(\"Invalid quantity! Please enter a non-negative value.\")\n",
    "                valid_quantity = True\n",
    "            except ValueError as error:\n",
    "                print(f\"Error: {error}\")\n",
    "        inventory[product] = quantity\n",
    "    return inventory\n",
    "\n",
    "# Or, in another way:\n",
    "\n",
    "def initialize_inventory(products):\n",
    "    inventory = {}\n",
    "    for product in products:\n",
    "        valid_input = False\n",
    "        while not valid_input:\n",
    "            try:\n",
    "                quantity = int(input(f\"Enter the quantity of {product}s available: \"))\n",
    "                if quantity >= 0:\n",
    "                    inventory[product] = quantity\n",
    "                    valid_input = True\n",
    "                else:\n",
    "                    print(\"Quantity cannot be negative. Please enter a valid quantity.\")\n",
    "            except ValueError:\n",
    "                print(\"Invalid input. Please enter a valid quantity.\")\n",
    "    return inventory\n",
    "```\n",
    "\n",
    "Let's enhance your code by implementing error handling to handle invalid inputs.\n",
    "\n",
    "Follow the steps below to complete the exercise:\n",
    "\n",
    "2. Modify the `calculate_total_price` function to include error handling.\n",
    "   - If the user enters an invalid price (e.g., a negative value or a non-numeric value), display an error message and ask them to re-enter the price for that product.\n",
    "   - Use a try-except block to handle the error and continue prompting the user until a valid price is entered.\n",
    "\n",
    "3. Modify the `get_customer_orders` function to include error handling.\n",
    "   - If the user enters an invalid number of orders (e.g., a negative value or a non-numeric value), display an error message and ask them to re-enter the number of orders.\n",
    "   - If the user enters an invalid product name (e.g., a product name that is not in the inventory), or that doesn't have stock available, display an error message and ask them to re-enter the product name. *Hint: you will need to pass inventory as a parameter*\n",
    "   - Use a try-except block to handle the error and continue prompting the user until a valid product name is entered.\n",
    "\n",
    "4. Test your code by running the program and deliberately entering invalid quantities and product names. Make sure the error handling mechanism works as expected.\n"
   ]
  },
  {
   "cell_type": "code",
   "execution_count": 1,
   "id": "4cd4096d",
   "metadata": {},
   "outputs": [],
   "source": [
    "#1.- Function initialize inventory handling errors\n",
    "\n",
    "def initialize_inventory(products):\n",
    "    inventory = {}\n",
    "    for product in products:\n",
    "        valid_quantity = False\n",
    "        while not valid_quantity:\n",
    "            try:\n",
    "                quantity = int(input(f\"Enter the quantity of {product}s available: \"))\n",
    "                if quantity < 0:\n",
    "                    raise ValueError(\"Invalid quantity! Please enter a non-negative value.\")\n",
    "                valid_quantity = True\n",
    "            except ValueError as error:\n",
    "                print(f\"Error: {error}\")\n",
    "        inventory[product] = quantity\n",
    "    return inventory"
   ]
  },
  {
   "cell_type": "code",
   "execution_count": 2,
   "id": "f4c0c526",
   "metadata": {},
   "outputs": [],
   "source": [
    "#3.- Function get customer order handling errors\n",
    "\n",
    "def get_customer_orders():\n",
    "    while True:\n",
    "        try:\n",
    "            number_of_orders = int(input(\"Enter the number of customer orders: \"))\n",
    "            if number_of_orders < 0:\n",
    "                raise ValueError(\"The number of orders can't be negative\")\n",
    "            break\n",
    "        except ValueError as e:\n",
    "            print(f\"Invalid input: {e}. Please enter a valid non-negative number\")\n",
    "\n",
    "    customer_orders = set()\n",
    "    for _ in range(number_of_orders):\n",
    "        while True:\n",
    "            try:\n",
    "                product_name = input(\"Enter the name of the product that the customer wants to order: \")\n",
    "                if product_name not in inventory:\n",
    "                    raise ValueError(\"Product not available in inventory\")\n",
    "                elif inventory[product_name] <= 0:\n",
    "                    raise ValueError(\"Product is out of stock\")\n",
    "                customer_orders.add(product_name)\n",
    "                break\n",
    "            except ValueError as e:\n",
    "                print(f\"invalid input: {e}. Please enter a valid product name that is in stock\")\n",
    "    return customer_orders\n"
   ]
  },
  {
   "cell_type": "code",
   "execution_count": 3,
   "id": "39d3abc3",
   "metadata": {},
   "outputs": [],
   "source": [
    "#2.- Function price customer order handling errors\n",
    "\n",
    "def calculate_total_price(customer_orders):\n",
    "    total_price = 0.0\n",
    "    for product in customer_orders:\n",
    "        while True:\n",
    "            try:\n",
    "                price = float(input(f\"Enter the price of {product}: \"))\n",
    "                if price <= 0:\n",
    "                    raise ValueError(\"Price cannot be negative or 0\")\n",
    "                total_price += price\n",
    "                break\n",
    "            except ValueError as e:\n",
    "                print(f\"Invelid input: {e}. Please enter a number superior to 0\")\n",
    "    return total_price\n"
   ]
  },
  {
   "cell_type": "code",
   "execution_count": 4,
   "id": "5de333c7",
   "metadata": {},
   "outputs": [],
   "source": [
    "#Function update_inventory\n",
    "\n",
    "def update_inventory(customer_orders, inventory):\n",
    "    for product in customer_orders:                                                         \n",
    "        inventory[product] -= 1\n",
    "    return inventory"
   ]
  },
  {
   "cell_type": "code",
   "execution_count": 5,
   "id": "940192c7",
   "metadata": {},
   "outputs": [],
   "source": [
    " #Function calculate order stadistics\n",
    "\n",
    "def calculate_order_stadistics(customer_orders, products):\n",
    "    total_products_ordered = len(customer_orders)                                              \n",
    "    total_available_products = sum(map(int, inventory.values()))\n",
    "    percentage_products_ordered = (total_products_ordered / total_available_products) * 100\n",
    "    \n",
    "    return total_products_ordered, percentage_products_ordered"
   ]
  },
  {
   "cell_type": "code",
   "execution_count": 6,
   "id": "2e1c8cfa",
   "metadata": {},
   "outputs": [],
   "source": [
    "#Function print_order_stadistics\n",
    "\n",
    "def show_order_stadistics(order_stadistics):\n",
    "    print(\"\\nOrder Stadistics:\")\n",
    "    print(f\"Total products ordered: {order_stadistics[0]}\")\n",
    "    print(f\"Total order price: {total_price: }\")\n",
    "    print(f\"Percentage of Unique Products Ordered: {order_stadistics[1]}%\")"
   ]
  },
  {
   "cell_type": "code",
   "execution_count": 7,
   "id": "f911e935",
   "metadata": {},
   "outputs": [],
   "source": [
    "#4.- Function print_updated_inventory\n",
    "\n",
    "def print_updated_inventory(inventory):\n",
    "    for product, quantity in inventory.items():\n",
    "        if quantity > 0:\n",
    "            print(f\"The remaining inventory of {product} is {quantity}\")"
   ]
  },
  {
   "cell_type": "code",
   "execution_count": 8,
   "id": "b18b0c27",
   "metadata": {},
   "outputs": [
    {
     "name": "stdout",
     "output_type": "stream",
     "text": [
      "Error: Invalid quantity! Please enter a non-negative value.\n",
      "invalid input: Product not available in inventory. Please enter a valid product name that is in stock\n",
      "Invelid input: Price cannot be negative or 0. Please enter a number superior to 0\n",
      "\n",
      "Order Stadistics:\n",
      "Total products ordered: 2\n",
      "Total order price:  16.0\n",
      "Percentage of Unique Products Ordered: 22.22222222222222%\n",
      "The remaining inventory of t-shirt is 1\n",
      "The remaining inventory of mug is 1\n",
      "The remaining inventory of hat is 2\n",
      "The remaining inventory of book is 5\n"
     ]
    }
   ],
   "source": [
    "#Call all functions\n",
    "\n",
    "products = [\"t-shirt\", \"mug\", \"hat\", \"book\", \"keychain\"]\n",
    "inventory = initialize_inventory(products)\n",
    "customer_orders = get_customer_orders()\n",
    "total_price = calculate_total_price(customer_orders)\n",
    "new_inventory = update_inventory(customer_orders, inventory)\n",
    "order_stadistics = calculate_order_stadistics(customer_orders, products)\n",
    "show_order_stadistics(order_stadistics)\n",
    "print_updated_inventory(inventory)"
   ]
  },
  {
   "cell_type": "code",
   "execution_count": null,
   "id": "b73cce7d",
   "metadata": {},
   "outputs": [],
   "source": []
  }
 ],
 "metadata": {
  "kernelspec": {
   "display_name": "Python 3 (ipykernel)",
   "language": "python",
   "name": "python3"
  },
  "language_info": {
   "codemirror_mode": {
    "name": "ipython",
    "version": 3
   },
   "file_extension": ".py",
   "mimetype": "text/x-python",
   "name": "python",
   "nbconvert_exporter": "python",
   "pygments_lexer": "ipython3",
   "version": "3.11.7"
  }
 },
 "nbformat": 4,
 "nbformat_minor": 5
}
